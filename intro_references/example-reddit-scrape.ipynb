{
 "cells": [
  {
   "cell_type": "code",
   "execution_count": 4,
   "metadata": {},
   "outputs": [],
   "source": [
    "from datetime import datetime as dt\n",
    "import scrapy\n",
    "\n",
    "class RedditSpider(scrapy.Spider):\n",
    "    # This might be redundant but it was included in the boilerplate from the example\n",
    "    name = 'reddit'\n",
    "    def start_requests(self):\n",
    "        yield scrapy.Request('http://reddit.com')\n",
    "\n",
    "    def parse(self, response):\n",
    "        items = []\n",
    "        for div in response.css('div.sitetable div.thing'):\n",
    "            try:\n",
    "                title = div.css('p.title a::text').extract_first()\n",
    "                votes_div = div.css('div.score.unvoted')\n",
    "                votes = votes_div.css('::attr(title)').extract_first()\n",
    "                votes = votes or votes_div.css('::text').extract_first()\n",
    "\n",
    "                items.append({'title': title, 'votes': int(votes)})\n",
    "            except:\n",
    "                pass\n",
    "\n",
    "        if len(items) > 0:\n",
    "            timestamp = response.meta['wayback_machine_time'].timestamp()\n",
    "            return {'timestamp': timestamp, 'items': items}"
   ]
  },
  {
   "cell_type": "code",
   "execution_count": null,
   "metadata": {},
   "outputs": [],
   "source": []
  }
 ],
 "metadata": {
  "kernelspec": {
   "display_name": "Python 3",
   "language": "python",
   "name": "python3"
  },
  "language_info": {
   "codemirror_mode": {
    "name": "ipython",
    "version": 3
   },
   "file_extension": ".py",
   "mimetype": "text/x-python",
   "name": "python",
   "nbconvert_exporter": "python",
   "pygments_lexer": "ipython3",
   "version": "3.6.3"
  }
 },
 "nbformat": 4,
 "nbformat_minor": 2
}
